{
  "cells": [
    {
      "cell_type": "markdown",
      "metadata": {
        "id": "view-in-github",
        "colab_type": "text"
      },
      "source": [
        "<a href=\"https://colab.research.google.com/github/Tejvvishnu/VU21CSEN0400190/blob/main/python_exercise.ipynb\" target=\"_parent\"><img src=\"https://colab.research.google.com/assets/colab-badge.svg\" alt=\"Open In Colab\"/></a>"
      ]
    },
    {
      "cell_type": "markdown",
      "id": "a2ca8798",
      "metadata": {
        "id": "a2ca8798"
      },
      "source": [
        "## avg of three numbers"
      ]
    },
    {
      "cell_type": "code",
      "execution_count": null,
      "id": "20e2740a",
      "metadata": {
        "id": "20e2740a",
        "outputId": "035baa49-7bb4-4246-80a6-b127b7e02022"
      },
      "outputs": [
        {
          "name": "stdout",
          "output_type": "stream",
          "text": [
            "2.0\n",
            "<class 'float'>\n"
          ]
        }
      ],
      "source": [
        "x=1\n",
        "y=2\n",
        "z=3\n",
        "avg=(x+y+z)/3\n",
        "print(avg)\n",
        "print(type(avg))"
      ]
    },
    {
      "cell_type": "markdown",
      "id": "56c68ba4",
      "metadata": {
        "id": "56c68ba4"
      },
      "source": [
        "## multipication of three numbers\n"
      ]
    },
    {
      "cell_type": "code",
      "execution_count": null,
      "id": "e779ff50",
      "metadata": {
        "id": "e779ff50",
        "outputId": "7da73f56-96e1-4e0d-95b4-3d10f51da319"
      },
      "outputs": [
        {
          "name": "stdout",
          "output_type": "stream",
          "text": [
            "250\n",
            "<class 'int'>\n"
          ]
        }
      ],
      "source": [
        "a=5\n",
        "b=5\n",
        "c=10\n",
        "mul=a*b*c\n",
        "print(mul)\n",
        "print(type(mul))"
      ]
    },
    {
      "cell_type": "markdown",
      "id": "a28e9d63",
      "metadata": {
        "id": "a28e9d63"
      },
      "source": [
        "## dynamic addition of two numbers\n"
      ]
    },
    {
      "cell_type": "code",
      "execution_count": null,
      "id": "c0e21e05",
      "metadata": {
        "id": "c0e21e05",
        "outputId": "d45e36e8-cc2b-4249-ce55-f75b9ceafb30"
      },
      "outputs": [
        {
          "name": "stdout",
          "output_type": "stream",
          "text": [
            "enter a number20\n",
            "enter a number30\n",
            "50\n"
          ]
        }
      ],
      "source": [
        "a=int(input(\"enter a number\"))\n",
        "b=int(input(\"enter a number\"))\n",
        "c=a+b\n",
        "print(c)"
      ]
    },
    {
      "cell_type": "markdown",
      "id": "d70ceccf",
      "metadata": {
        "id": "d70ceccf"
      },
      "source": [
        "## multipliction of three numbers"
      ]
    },
    {
      "cell_type": "code",
      "execution_count": null,
      "id": "b227c4ea",
      "metadata": {
        "id": "b227c4ea",
        "outputId": "cc786fe1-9716-4b99-b076-6efc5de2d986"
      },
      "outputs": [
        {
          "name": "stdout",
          "output_type": "stream",
          "text": [
            "enter a number20\n",
            "enter a number30\n",
            "enter a number10\n",
            "6000\n"
          ]
        }
      ],
      "source": [
        "a=int(input(\"enter a number\"))\n",
        "b=int(input(\"enter a number\"))\n",
        "c=int(input(\"enter a number\"))\n",
        "d=a*b*c\n",
        "print(d)\n"
      ]
    },
    {
      "cell_type": "code",
      "execution_count": null,
      "id": "5aa46bfe",
      "metadata": {
        "id": "5aa46bfe"
      },
      "outputs": [],
      "source": [
        ""
      ]
    },
    {
      "cell_type": "markdown",
      "id": "1f2b70e1",
      "metadata": {
        "id": "1f2b70e1"
      },
      "source": [
        "## average of three numbers\n"
      ]
    },
    {
      "cell_type": "code",
      "execution_count": null,
      "id": "4a2721be",
      "metadata": {
        "id": "4a2721be",
        "outputId": "2e43de0f-b70b-4c78-8742-9b7c7059fe0c"
      },
      "outputs": [
        {
          "name": "stdout",
          "output_type": "stream",
          "text": [
            "enter a number20\n",
            "enter a number30\n",
            "enter a number30\n",
            "26.666666666666668\n"
          ]
        }
      ],
      "source": [
        "a=int(input(\"enter a number\"))\n",
        "b=int(input(\"enter a number\"))\n",
        "c=int(input(\"enter a number\"))\n",
        "d=(a+b+c)/3\n",
        "print(d)"
      ]
    },
    {
      "cell_type": "markdown",
      "id": "58df3fcb",
      "metadata": {
        "id": "58df3fcb"
      },
      "source": [
        "## swap of two numbers\n"
      ]
    },
    {
      "cell_type": "code",
      "execution_count": null,
      "id": "4b672bae",
      "metadata": {
        "id": "4b672bae",
        "outputId": "6e55ba8c-d73a-441f-bed5-129c36ff3163"
      },
      "outputs": [
        {
          "name": "stdout",
          "output_type": "stream",
          "text": [
            "x= 10\n",
            "y= 5\n"
          ]
        }
      ],
      "source": [
        "x=5\n",
        "y=10\n",
        "x = x+y\n",
        "y = x-y\n",
        "x = x-y\n",
        "print(\"x=\",x)\n",
        "print(\"y=\",y)"
      ]
    },
    {
      "cell_type": "markdown",
      "id": "28fe3f17",
      "metadata": {
        "id": "28fe3f17"
      },
      "source": [
        "## converting data types\n",
        "int to float"
      ]
    },
    {
      "cell_type": "code",
      "execution_count": null,
      "id": "59f0ee80",
      "metadata": {
        "id": "59f0ee80",
        "outputId": "ff51d619-e5c9-4989-8960-902e49634f74"
      },
      "outputs": [
        {
          "name": "stdout",
          "output_type": "stream",
          "text": [
            "<class 'int'>\n",
            "2.0\n",
            "<class 'float'>\n"
          ]
        }
      ],
      "source": [
        "a=2\n",
        "print(type(a))\n",
        "b=float(a)\n",
        "print(b)\n",
        "print(type(b))"
      ]
    },
    {
      "cell_type": "markdown",
      "id": "d75fe4cb",
      "metadata": {
        "id": "d75fe4cb"
      },
      "source": [
        "## converting data types¶\n",
        "int to float"
      ]
    },
    {
      "cell_type": "code",
      "execution_count": null,
      "id": "8abf3359",
      "metadata": {
        "id": "8abf3359",
        "outputId": "3ad756a8-2d23-4967-dda1-91938771d6b9"
      },
      "outputs": [
        {
          "name": "stdout",
          "output_type": "stream",
          "text": [
            "<class 'float'>\n",
            "22\n",
            "<class 'int'>\n"
          ]
        }
      ],
      "source": [
        "a=22.00\n",
        "print(type(a))\n",
        "b=int(a)\n",
        "print(b)\n",
        "print(type(b))"
      ]
    },
    {
      "cell_type": "markdown",
      "id": "55b54332",
      "metadata": {
        "id": "55b54332"
      },
      "source": [
        "## int to string"
      ]
    },
    {
      "cell_type": "code",
      "execution_count": null,
      "id": "3de7879a",
      "metadata": {
        "id": "3de7879a",
        "outputId": "a85fd510-f9e3-4962-cbfd-2a8a5b618d4c"
      },
      "outputs": [
        {
          "name": "stdout",
          "output_type": "stream",
          "text": [
            "<class 'int'>\n",
            "22\n",
            "<class 'str'>\n"
          ]
        }
      ],
      "source": [
        "a=22\n",
        "print(type(a))\n",
        "b=str(a)\n",
        "print(b)\n",
        "print(type(b))"
      ]
    },
    {
      "cell_type": "markdown",
      "id": "14c435ab",
      "metadata": {
        "id": "14c435ab"
      },
      "source": [
        "## string to int"
      ]
    },
    {
      "cell_type": "code",
      "execution_count": null,
      "id": "6e6d1f50",
      "metadata": {
        "id": "6e6d1f50",
        "outputId": "9cfcf40a-5a0e-4bfc-af09-a9c1dd4156a4"
      },
      "outputs": [
        {
          "name": "stdout",
          "output_type": "stream",
          "text": [
            "<class 'str'>\n",
            "22\n",
            "<class 'int'>\n"
          ]
        }
      ],
      "source": [
        "a=\"22\"\n",
        "print(type(a))\n",
        "b=int(a)\n",
        "print(b)\n",
        "print(type(b))"
      ]
    },
    {
      "cell_type": "code",
      "execution_count": null,
      "id": "bd7aadb5",
      "metadata": {
        "id": "bd7aadb5",
        "outputId": "e826c78e-657d-4dd9-bda8-c4c5ad95aa29"
      },
      "outputs": [
        {
          "name": "stdout",
          "output_type": "stream",
          "text": [
            "True\n",
            "<class 'int'>\n"
          ]
        }
      ],
      "source": [
        "a=20\n",
        "print(bool(a))\n",
        "print(type(a))"
      ]
    },
    {
      "cell_type": "markdown",
      "id": "b716fbc0",
      "metadata": {
        "id": "b716fbc0"
      },
      "source": [
        "boolean expressions"
      ]
    },
    {
      "cell_type": "code",
      "execution_count": null,
      "id": "38e8fb7d",
      "metadata": {
        "id": "38e8fb7d",
        "outputId": "ad5df2af-7556-4438-d4b9-1eb6695f6127"
      },
      "outputs": [
        {
          "name": "stdout",
          "output_type": "stream",
          "text": [
            "False\n",
            "<class 'bool'>\n"
          ]
        }
      ],
      "source": [
        "a=10\n",
        "b=20\n",
        "c=a>b\n",
        "print(bool(c))\n",
        "print(type(c))"
      ]
    },
    {
      "cell_type": "markdown",
      "id": "9201a4fb",
      "metadata": {
        "id": "9201a4fb"
      },
      "source": [
        "boolean expressions"
      ]
    },
    {
      "cell_type": "code",
      "execution_count": null,
      "id": "48afd6bd",
      "metadata": {
        "id": "48afd6bd",
        "outputId": "aec66160-8a30-49b3-aac4-d345303fda21"
      },
      "outputs": [
        {
          "name": "stdout",
          "output_type": "stream",
          "text": [
            "False\n",
            "<class 'bool'>\n"
          ]
        }
      ],
      "source": [
        "a=10\n",
        "b=20\n",
        "c=a>b\n",
        "print(bool(c))\n",
        "print(type(c))"
      ]
    },
    {
      "cell_type": "markdown",
      "id": "9c032620",
      "metadata": {
        "id": "9c032620"
      },
      "source": [
        ""
      ]
    },
    {
      "cell_type": "markdown",
      "id": "564fa019",
      "metadata": {
        "id": "564fa019"
      },
      "source": [
        " boolean expressions"
      ]
    },
    {
      "cell_type": "code",
      "execution_count": null,
      "id": "149f2682",
      "metadata": {
        "id": "149f2682",
        "outputId": "8e8ecde4-8712-4033-d1f9-ee1a21647234"
      },
      "outputs": [
        {
          "name": "stdout",
          "output_type": "stream",
          "text": [
            "True\n",
            "True\n",
            "<class 'int'>\n"
          ]
        }
      ],
      "source": [
        "a=bool(10)\n",
        "print(bool(c))\n",
        "b=20\n",
        "print(bool(b))\n",
        "print(type(b))"
      ]
    },
    {
      "cell_type": "code",
      "execution_count": null,
      "id": "786abf62",
      "metadata": {
        "id": "786abf62",
        "outputId": "207935cc-0161-4e72-96f9-f0972e365ff4"
      },
      "outputs": [
        {
          "name": "stdout",
          "output_type": "stream",
          "text": [
            "True\n"
          ]
        }
      ],
      "source": [
        "a=20\n",
        "b=10\n",
        "c=print(a>b)"
      ]
    },
    {
      "cell_type": "code",
      "execution_count": null,
      "id": "fb2dc3a5",
      "metadata": {
        "id": "fb2dc3a5",
        "outputId": "23c41298-190c-4bc3-8e8f-c6b19a0fe9b2"
      },
      "outputs": [
        {
          "name": "stdout",
          "output_type": "stream",
          "text": [
            "<class 'bool'>\n",
            "<class 'str'>\n"
          ]
        }
      ],
      "source": [
        "a=bool(10)\n",
        "print(type(a))\n",
        "b=\"20\"\n",
        "print(type(b))"
      ]
    },
    {
      "cell_type": "code",
      "execution_count": null,
      "id": "902c62fb",
      "metadata": {
        "id": "902c62fb",
        "outputId": "9bbb2de5-01b8-4298-ac4d-1f0aee699e5f"
      },
      "outputs": [
        {
          "name": "stdout",
          "output_type": "stream",
          "text": [
            "{'january', 'may', 'febrauary', 'march', 'april', 'June'}\n",
            "<class 'set'>\n"
          ]
        }
      ],
      "source": [
        "a={\"january\",\"febrauary\",\"march\",\"april\",\"may\",\"June\"}\n",
        "print(a)\n",
        "print(type(a))"
      ]
    },
    {
      "cell_type": "code",
      "execution_count": null,
      "id": "427bb300",
      "metadata": {
        "scrolled": true,
        "id": "427bb300",
        "outputId": "96052ac0-cb54-4c57-d3c2-d60bad1bb0ae"
      },
      "outputs": [
        {
          "name": "stdout",
          "output_type": "stream",
          "text": [
            "['january', 'febrauary', 'march', 'april', 'may', 'June']\n",
            "<class 'list'>\n"
          ]
        }
      ],
      "source": [
        "a=[\"january\",\"febrauary\",\"march\",\"april\",\"may\",\"June\"]\n",
        "print(a)\n",
        "print(type(a))"
      ]
    },
    {
      "cell_type": "code",
      "execution_count": null,
      "id": "068e73ff",
      "metadata": {
        "id": "068e73ff",
        "outputId": "5055c091-d43c-4c1d-f8b0-13e6f48c6850"
      },
      "outputs": [
        {
          "name": "stdout",
          "output_type": "stream",
          "text": [
            "('january', 'febrauary', 'march', 'april', 'may', 'June')\n",
            "<class 'tuple'>\n"
          ]
        }
      ],
      "source": [
        "a=\"january\",\"febrauary\",\"march\",\"april\",\"may\",\"June\"\n",
        "print(a)\n",
        "print(type(a))"
      ]
    },
    {
      "cell_type": "code",
      "execution_count": null,
      "id": "b6faaf70",
      "metadata": {
        "id": "b6faaf70",
        "outputId": "612a42b4-c29a-43f0-8e89-dcae79cdfd2a"
      },
      "outputs": [
        {
          "name": "stdout",
          "output_type": "stream",
          "text": [
            "(5+2j)\n",
            "<class 'complex'>\n",
            "a\n",
            "<class 'str'>\n"
          ]
        }
      ],
      "source": [
        "a=5+2j\n",
        "print(a)\n",
        "print(type(a))\n",
        "b=\"a\"\n",
        "print(b)\n",
        "print(type(b))"
      ]
    },
    {
      "cell_type": "code",
      "execution_count": null,
      "id": "31c50263",
      "metadata": {
        "id": "31c50263"
      },
      "outputs": [],
      "source": [
        ""
      ]
    }
  ],
  "metadata": {
    "kernelspec": {
      "display_name": "Python 3 (ipykernel)",
      "language": "python",
      "name": "python3"
    },
    "language_info": {
      "codemirror_mode": {
        "name": "ipython",
        "version": 3
      },
      "file_extension": ".py",
      "mimetype": "text/x-python",
      "name": "python",
      "nbconvert_exporter": "python",
      "pygments_lexer": "ipython3",
      "version": "3.9.7"
    },
    "colab": {
      "name": "python exercise.ipynb",
      "provenance": [],
      "include_colab_link": true
    }
  },
  "nbformat": 4,
  "nbformat_minor": 5
}